{
 "cells": [
  {
   "cell_type": "code",
   "execution_count": 136,
   "metadata": {},
   "outputs": [],
   "source": [
    "from keras import applications\n",
    "from keras.applications.resnet50 import preprocess_input"
   ]
  },
  {
   "cell_type": "code",
   "execution_count": 137,
   "metadata": {},
   "outputs": [],
   "source": [
    "import pandas as pd\n",
    "import numpy as np\n",
    "\n",
    "import csv\n",
    "import matplotlib.pyplot as plt\n",
    "%matplotlib inline\n"
   ]
  },
  {
   "cell_type": "code",
   "execution_count": 138,
   "metadata": {},
   "outputs": [],
   "source": [
    "tsne_df = pd.read_csv('tsne_features.csv')"
   ]
  },
  {
   "cell_type": "code",
   "execution_count": 197,
   "metadata": {},
   "outputs": [
    {
     "data": {
      "text/plain": [
       "[1443, 3959]"
      ]
     },
     "execution_count": 197,
     "metadata": {},
     "output_type": "execute_result"
    }
   ],
   "source": [
    "list(tsne_df[tsne_df['cluster']==-1]['id'])"
   ]
  },
  {
   "cell_type": "code",
   "execution_count": 140,
   "metadata": {},
   "outputs": [],
   "source": [
    "# list(tsne_df[tsne_df['cluster']==8]['id'])"
   ]
  },
  {
   "cell_type": "code",
   "execution_count": 141,
   "metadata": {},
   "outputs": [],
   "source": [
    "# tsne_df[tsne_df['id']==637]"
   ]
  },
  {
   "cell_type": "markdown",
   "metadata": {},
   "source": [
    "------"
   ]
  },
  {
   "cell_type": "markdown",
   "metadata": {},
   "source": [
    "## KMeans"
   ]
  },
  {
   "cell_type": "code",
   "execution_count": 143,
   "metadata": {},
   "outputs": [],
   "source": [
    "from sklearn.metrics import silhouette_score, silhouette_samples\n",
    "from sklearn.cluster import KMeans\n",
    "from sklearn.cluster import DBSCAN\n",
    "from sklearn.preprocessing import StandardScaler\n"
   ]
  },
  {
   "cell_type": "code",
   "execution_count": 144,
   "metadata": {},
   "outputs": [
    {
     "name": "stdout",
     "output_type": "stream",
     "text": [
      "no. of cluster:  3 , score:  0.4600027351873407\n",
      "no. of cluster:  4 , score:  0.5320729677997921\n",
      "no. of cluster:  5 , score:  0.5651980853473855\n",
      "no. of cluster:  6 , score:  0.5883014147439732\n",
      "no. of cluster:  7 , score:  0.5927701765926213\n",
      "no. of cluster:  8 , score:  0.6164573758683165\n",
      "no. of cluster:  9 , score:  0.6363263160787542\n",
      "no. of cluster:  10 , score:  0.6166168060280917\n",
      "no. of cluster:  11 , score:  0.581146875150207\n",
      "no. of cluster:  12 , score:  0.5477145669426615\n",
      "no. of cluster:  13 , score:  0.5421980498985813\n",
      "no. of cluster:  14 , score:  0.5337281272025566\n"
     ]
    }
   ],
   "source": [
    "scaler = StandardScaler()\n",
    "X = np.array(tsne_df[['x', 'y']])\n",
    "\n",
    "cluster_range = list(range(3,15))\n",
    "for cl in cluster_range:\n",
    "    kmeans = KMeans(cl, random_state=0)\n",
    "    cl_labels = kmeans.fit_predict(X)\n",
    "    silhouette_avg = silhouette_score(X, cl_labels)\n",
    "    print('no. of cluster: ', cl, ', score: ', silhouette_avg)\n",
    "    \n",
    "    silhouette_values = silhouette_samples(X, cl_labels)"
   ]
  },
  {
   "cell_type": "markdown",
   "metadata": {},
   "source": [
    "**KMeans** suggests 9 clusters to be optimum, which we'll confirm with **DBSCAN** as well."
   ]
  },
  {
   "cell_type": "markdown",
   "metadata": {},
   "source": [
    "## DBSCAN"
   ]
  },
  {
   "cell_type": "markdown",
   "metadata": {},
   "source": [
    "We'll be estimating best `epsilon` and `min_samples` for **DBSCAN**"
   ]
  },
  {
   "cell_type": "code",
   "execution_count": 146,
   "metadata": {},
   "outputs": [
    {
     "name": "stdout",
     "output_type": "stream",
     "text": [
      "{-1}\n",
      "\n",
      "{-1}\n",
      "\n",
      "{-1}\n",
      "\n",
      "{-1}\n",
      "\n",
      "{-1}\n",
      "\n",
      "{-1}\n",
      "\n",
      "{-1}\n",
      "\n",
      "{-1}\n",
      "\n",
      "{0, -1}\n",
      "eps: 0.17999999999999997 \n",
      "unique labels:  [-1  0] \n",
      "avg silhouette score:  0.064981401682761\n",
      "\n",
      "{0, 1, -1}\n",
      "eps: 0.18999999999999995 \n",
      "unique labels:  [-1  0  1] \n",
      "avg silhouette score:  -0.08374194386157154\n",
      "\n",
      "{0, 1, 2, 3, -1}\n",
      "eps: 0.19999999999999996 \n",
      "unique labels:  [-1  0  1  2  3] \n",
      "avg silhouette score:  -0.1496081564345355\n",
      "\n",
      "{0, 1, 2, 3, -1}\n",
      "eps: 0.20999999999999996 \n",
      "unique labels:  [-1  0  1  2  3] \n",
      "avg silhouette score:  -0.14917053543035025\n",
      "\n",
      "{0, 1, 2, 3, -1}\n",
      "eps: 0.21999999999999995 \n",
      "unique labels:  [-1  0  1  2  3] \n",
      "avg silhouette score:  -0.14917053543035025\n",
      "\n",
      "{0, 1, 2, 3, -1}\n",
      "eps: 0.22999999999999995 \n",
      "unique labels:  [-1  0  1  2  3] \n",
      "avg silhouette score:  -0.14872013537896867\n",
      "\n",
      "{0, 1, 2, 3, -1}\n",
      "eps: 0.23999999999999994 \n",
      "unique labels:  [-1  0  1  2  3] \n",
      "avg silhouette score:  -0.14872013537896867\n",
      "\n",
      "{0, 1, 2, 3, -1}\n",
      "eps: 0.24999999999999992 \n",
      "unique labels:  [-1  0  1  2  3] \n",
      "avg silhouette score:  -0.14872013537896867\n",
      "\n",
      "{0, 1, 2, 3, -1}\n",
      "eps: 0.2599999999999999 \n",
      "unique labels:  [-1  0  1  2  3] \n",
      "avg silhouette score:  -0.14794553619379494\n",
      "\n",
      "{0, 1, 2, 3, 4, -1}\n",
      "eps: 0.2699999999999999 \n",
      "unique labels:  [-1  0  1  2  3  4] \n",
      "avg silhouette score:  -0.1869801756513627\n",
      "\n",
      "{0, 1, 2, 3, 4, -1}\n",
      "eps: 0.2799999999999999 \n",
      "unique labels:  [-1  0  1  2  3  4] \n",
      "avg silhouette score:  -0.1869801756513627\n",
      "\n",
      "{0, 1, 2, 3, 4, 5, 6, -1}\n",
      "eps: 0.2899999999999999 \n",
      "unique labels:  [-1  0  1  2  3  4  5  6] \n",
      "avg silhouette score:  -0.4337635235213503\n",
      "\n",
      "{0, 1, 2, 3, 4, 5, 6, -1}\n",
      "eps: 0.29999999999999993 \n",
      "unique labels:  [-1  0  1  2  3  4  5  6] \n",
      "avg silhouette score:  -0.4337635235213503\n",
      "\n",
      "{0, 1, 2, 3, 4, 5, 6, 7, -1}\n",
      "eps: 0.30999999999999994 \n",
      "unique labels:  [-1  0  1  2  3  4  5  6  7] \n",
      "avg silhouette score:  -0.5761103184722218\n",
      "\n",
      "{0, 1, 2, 3, 4, 5, 6, 7, 8, 9, 10, 11, -1}\n",
      "eps: 0.3199999999999999 \n",
      "unique labels:  [-1  0  1  2  3  4  5  6  7  8  9 10 11] \n",
      "avg silhouette score:  -0.7032567637866558\n",
      "\n",
      "{0, 1, 2, 3, 4, 5, 6, 7, 8, 9, 10, 11, 12, 13, -1}\n",
      "eps: 0.32999999999999985 \n",
      "unique labels:  [-1  0  1  2  3  4  5  6  7  8  9 10 11 12 13] \n",
      "avg silhouette score:  -0.7022143922031939\n",
      "\n",
      "{0, 1, 2, 3, 4, 5, 6, 7, 8, 9, 10, 11, 12, 13, 14, 15, -1}\n",
      "eps: 0.33999999999999986 \n",
      "unique labels:  [-1  0  1  2  3  4  5  6  7  8  9 10 11 12 13 14 15] \n",
      "avg silhouette score:  -0.7157289602457895\n",
      "\n",
      "{0, 1, 2, 3, 4, 5, 6, 7, 8, 9, 10, 11, 12, 13, 14, 15, 16, -1}\n",
      "eps: 0.34999999999999987 \n",
      "unique labels:  [-1  0  1  2  3  4  5  6  7  8  9 10 11 12 13 14 15 16] \n",
      "avg silhouette score:  -0.7137700519626484\n",
      "\n",
      "{0, 1, 2, 3, 4, 5, 6, 7, 8, 9, 10, 11, 12, 13, 14, 15, 16, 17, 18, -1}\n",
      "eps: 0.3599999999999999 \n",
      "unique labels:  [-1  0  1  2  3  4  5  6  7  8  9 10 11 12 13 14 15 16 17 18] \n",
      "avg silhouette score:  -0.7148866016087837\n",
      "\n",
      "{0, 1, 2, 3, 4, 5, 6, 7, 8, 9, 10, 11, 12, 13, 14, 15, 16, 17, 18, 19, -1}\n",
      "eps: 0.3699999999999999 \n",
      "unique labels:  [-1  0  1  2  3  4  5  6  7  8  9 10 11 12 13 14 15 16 17 18 19] \n",
      "avg silhouette score:  -0.7402725053492376\n",
      "\n",
      "{0, 1, 2, 3, 4, 5, 6, 7, 8, 9, 10, 11, 12, 13, 14, 15, 16, 17, 18, 19, -1}\n",
      "eps: 0.3799999999999999 \n",
      "unique labels:  [-1  0  1  2  3  4  5  6  7  8  9 10 11 12 13 14 15 16 17 18 19] \n",
      "avg silhouette score:  -0.7399557562648281\n",
      "\n",
      "{0, 1, 2, 3, 4, 5, 6, 7, 8, 9, 10, 11, 12, 13, 14, 15, 16, 17, 18, 19, -1}\n",
      "eps: 0.3899999999999999 \n",
      "unique labels:  [-1  0  1  2  3  4  5  6  7  8  9 10 11 12 13 14 15 16 17 18 19] \n",
      "avg silhouette score:  -0.7399557562648281\n",
      "\n",
      "{0, 1, 2, 3, 4, 5, 6, 7, 8, 9, 10, 11, 12, 13, 14, 15, 16, 17, 18, 19, -1}\n",
      "eps: 0.3999999999999998 \n",
      "unique labels:  [-1  0  1  2  3  4  5  6  7  8  9 10 11 12 13 14 15 16 17 18 19] \n",
      "avg silhouette score:  -0.7392049415129306\n",
      "\n",
      "{0, 1, 2, 3, 4, 5, 6, 7, 8, 9, 10, 11, 12, 13, 14, 15, 16, 17, 18, 19, 20, -1}\n",
      "eps: 0.4099999999999998 \n",
      "unique labels:  [-1  0  1  2  3  4  5  6  7  8  9 10 11 12 13 14 15 16 17 18 19 20] \n",
      "avg silhouette score:  -0.7471520793966913\n",
      "\n",
      "{0, 1, 2, 3, 4, 5, 6, 7, 8, 9, 10, 11, 12, 13, 14, 15, 16, 17, 18, 19, 20, 21, -1}\n",
      "eps: 0.4199999999999998 \n",
      "unique labels:  [-1  0  1  2  3  4  5  6  7  8  9 10 11 12 13 14 15 16 17 18 19 20 21] \n",
      "avg silhouette score:  -0.7684426438862796\n",
      "\n",
      "{0, 1, 2, 3, 4, 5, 6, 7, 8, 9, 10, 11, 12, 13, 14, 15, 16, 17, 18, 19, 20, 21, -1}\n",
      "eps: 0.4299999999999998 \n",
      "unique labels:  [-1  0  1  2  3  4  5  6  7  8  9 10 11 12 13 14 15 16 17 18 19 20 21] \n",
      "avg silhouette score:  -0.7663724668776918\n",
      "\n",
      "{0, 1, 2, 3, 4, 5, 6, 7, 8, 9, 10, 11, 12, 13, 14, 15, 16, 17, 18, 19, 20, 21, 22, -1}\n",
      "eps: 0.43999999999999984 \n",
      "unique labels:  [-1  0  1  2  3  4  5  6  7  8  9 10 11 12 13 14 15 16 17 18 19 20 21 22] \n",
      "avg silhouette score:  -0.7749464265060121\n",
      "\n",
      "{0, 1, 2, 3, 4, 5, 6, 7, 8, 9, 10, 11, 12, 13, 14, 15, 16, 17, 18, 19, 20, 21, 22, 23, 24, 25, -1}\n",
      "eps: 0.44999999999999984 \n",
      "unique labels:  [-1  0  1  2  3  4  5  6  7  8  9 10 11 12 13 14 15 16 17 18 19 20 21 22\n",
      " 23 24 25] \n",
      "avg silhouette score:  -0.7711778425686638\n",
      "\n",
      "{0, 1, 2, 3, 4, 5, 6, 7, 8, 9, 10, 11, 12, 13, 14, 15, 16, 17, 18, 19, 20, 21, 22, 23, 24, 25, -1}\n",
      "eps: 0.45999999999999985 \n",
      "unique labels:  [-1  0  1  2  3  4  5  6  7  8  9 10 11 12 13 14 15 16 17 18 19 20 21 22\n",
      " 23 24 25] \n",
      "avg silhouette score:  -0.7699502315485749\n",
      "\n",
      "{0, 1, 2, 3, 4, 5, 6, 7, 8, 9, 10, 11, 12, 13, 14, 15, 16, 17, 18, 19, 20, 21, 22, 23, 24, 25, 26, 27, -1}\n",
      "eps: 0.46999999999999986 \n",
      "unique labels:  [-1  0  1  2  3  4  5  6  7  8  9 10 11 12 13 14 15 16 17 18 19 20 21 22\n",
      " 23 24 25 26 27] \n",
      "avg silhouette score:  -0.7778908337078477\n",
      "\n",
      "{0, 1, 2, 3, 4, 5, 6, 7, 8, 9, 10, 11, 12, 13, 14, 15, 16, 17, 18, 19, 20, 21, 22, 23, 24, 25, 26, 27, 28, -1}\n",
      "eps: 0.47999999999999976 \n",
      "unique labels:  [-1  0  1  2  3  4  5  6  7  8  9 10 11 12 13 14 15 16 17 18 19 20 21 22\n",
      " 23 24 25 26 27 28] \n",
      "avg silhouette score:  -0.7753218036900975\n",
      "\n",
      "{0, 1, 2, 3, 4, 5, 6, 7, 8, 9, 10, 11, 12, 13, 14, 15, 16, 17, 18, 19, 20, 21, 22, 23, 24, 25, 26, 27, 28, 29, 30, -1}\n",
      "eps: 0.48999999999999977 \n",
      "unique labels:  [-1  0  1  2  3  4  5  6  7  8  9 10 11 12 13 14 15 16 17 18 19 20 21 22\n",
      " 23 24 25 26 27 28 29 30] \n",
      "avg silhouette score:  -0.7780068363125098\n",
      "\n",
      "{0, 1, 2, 3, 4, 5, 6, 7, 8, 9, 10, 11, 12, 13, 14, 15, 16, 17, 18, 19, 20, 21, 22, 23, 24, 25, 26, 27, 28, 29, 30, 31, -1}\n",
      "eps: 0.4999999999999998 \n",
      "unique labels:  [-1  0  1  2  3  4  5  6  7  8  9 10 11 12 13 14 15 16 17 18 19 20 21 22\n",
      " 23 24 25 26 27 28 29 30 31] \n",
      "avg silhouette score:  -0.7770482760509029\n",
      "\n"
     ]
    }
   ],
   "source": [
    "range_eps = np.arange(0.1, 0.51, 0.01)\n",
    "\n",
    "for i in range_eps:\n",
    "    db = DBSCAN(eps=i, min_samples=5).fit(X)\n",
    "    core_samples_mask = np.zeros_like(db.labels_, dtype=bool)\n",
    "    core_samples_mask[db.core_sample_indices_] = True\n",
    "    labels = db.labels_\n",
    "    print(set(labels))\n",
    "    if len(np.unique(labels)) == 1:\n",
    "        print()\n",
    "        continue\n",
    "    silhouette_avg = silhouette_score(X, labels)\n",
    "    print('eps: ' + str(i), '\\nunique labels: ', np.unique(labels), '\\navg silhouette score: ', silhouette_avg)\n",
    "    print()"
   ]
  },
  {
   "cell_type": "markdown",
   "metadata": {},
   "source": [
    "Since we have maximum silhouette score for `epsilon=0.18`, taking this value into account, next we'll find `min_smaples` to consider while clustering."
   ]
  },
  {
   "cell_type": "code",
   "execution_count": null,
   "metadata": {},
   "outputs": [],
   "source": [
    "min_samples_range = list(range(3,15))\n",
    "for i in min_samples_range:\n",
    "    db = DBSCAN(eps=0.18, min_samples=i).fit(X)\n",
    "    core_samples_mask = np.zeros_like(db.labels_, dtype=bool)\n",
    "    core_samples_mask[db.core_sample_indices_] = True\n",
    "    labels = set([label for label in db.labels_ if label>=0])\n",
    "#     labels = db.labels_\n",
    "    print(set(labels))\n",
    "    print('min sample value: ', i)\n",
    "    print('no.of clusters: ', str(len(set(labels))))\n",
    "    print()"
   ]
  },
  {
   "cell_type": "markdown",
   "metadata": {},
   "source": [
    "**DBSCAN** suggests `min_samples=4` which will yield 10 clusters which is around the same suggested by KMeans. "
   ]
  },
  {
   "cell_type": "markdown",
   "metadata": {},
   "source": [
    "Thus, taking `eps=0.181 and `min_smaples=4` for **DBSCAN**, we'll plot the samples."
   ]
  },
  {
   "cell_type": "code",
   "execution_count": 148,
   "metadata": {},
   "outputs": [
    {
     "name": "stdout",
     "output_type": "stream",
     "text": [
      "{0, 1, 2, 3, 4, 5, 6, 7, 8, -1}\n",
      "Estimated number of clusters:  10\n",
      "Estimated number of outlier points:  2\n"
     ]
    },
    {
     "data": {
      "image/png": "[encoded data removed]",
      "text/plain": [
       "<Figure size 432x288 with 1 Axes>"
      ]
     },
     "metadata": {
      "needs_background": "light"
     },
     "output_type": "display_data"
    }
   ],
   "source": [
    "from sklearn.cluster import DBSCAN\n",
    "from sklearn.preprocessing import StandardScaler\n",
    "\n",
    "scaler = StandardScaler()\n",
    "# X = np.array(tsne_df[['x', 'y']])\n",
    "X_scaled = scaler.fit_transform(X)\n",
    "# cluster the data into five clusters\n",
    "dbscan = DBSCAN(eps=0.18, min_samples = 4)\n",
    "clusters = dbscan.fit_predict(X_scaled)\n",
    "\n",
    "# plot the cluster assignments\n",
    "plt.scatter(X[:, 0], X[:, 1], c=clusters, cmap=\"plasma\")\n",
    "plt.xlabel(\"Feature 0\")\n",
    "plt.ylabel(\"Feature 1\")\n",
    "\n",
    "\n",
    "db = DBSCAN(eps=.18, min_samples=4).fit(X_scaled)\n",
    "core_samples_mask = np.zeros_like(db.labels_, dtype=bool)\n",
    "core_samples_mask[db.core_sample_indices_] = True\n",
    "labels = db.labels_\n",
    "print(set(labels))\n",
    "\n",
    "n_clusters = len(set(labels))\n",
    "n_noise = list(labels).count(-1)\n",
    "\n",
    "print('Estimated number of clusters: ', n_clusters)\n",
    "print('Estimated number of outlier points: ', n_noise)"
   ]
  },
  {
   "cell_type": "code",
   "execution_count": 149,
   "metadata": {},
   "outputs": [],
   "source": [
    "tsne_df['cluster'] = clusters\n",
    "tsne_df.to_csv('tsne_clusters.csv')"
   ]
  },
  {
   "cell_type": "markdown",
   "metadata": {},
   "source": [
    "----"
   ]
  }
 ],
 "metadata": {
  "kernelspec": {
   "display_name": "Python 3",
   "language": "python",
   "name": "python3"
  },
  "language_info": {
   "codemirror_mode": {
    "name": "ipython",
    "version": 3
   },
   "file_extension": ".py",
   "mimetype": "text/x-python",
   "name": "python",
   "nbconvert_exporter": "python",
   "pygments_lexer": "ipython3",
   "version": "3.8.3"
  }
 },
 "nbformat": 4,
 "nbformat_minor": 4
}
